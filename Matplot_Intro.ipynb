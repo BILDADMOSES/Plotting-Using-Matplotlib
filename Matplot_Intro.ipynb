{
 "cells": [
  {
   "cell_type": "code",
   "execution_count": null,
   "metadata": {},
   "outputs": [],
   "source": [
    "# Print the last item from year and pop\n",
    "print(year[-1])\n",
    "print(pop[-1])\n",
    "\n",
    "# Import matplotlib.pyplot as plt\n",
    "import matplotlib.pyplot as plt\n",
    "import numpy as np\n",
    "# Make a line plot: year on the x-axis, pop on the y-axis\n",
    "plt.plot(year, pop)\n",
    "\n",
    "y_point = 10\n",
    "\n",
    "x_interp = np.interp(y_point, xp = pop, fp = year)\n",
    "\n",
    "plt.plot(x_interp, y_point, marker = 'o', color = 'red', label = 'intercept')\n",
    "\n",
    "plt.hlines(y_point,xmin = 0, xmax = x_interp,linestyles = 'dashed', color = 'grey')\n",
    "\n",
    "plt.vlines(x_interp,ymin = 0, ymax = y_point,linestyles = 'dashed', color = 'grey')\n",
    "\n",
    "# Annotation\n",
    "plt.annotate(f'{x_interp,y_point}', xy =(x_interp, y_point), xytext = (2065,7), arrowprops = dict(facecolor ='green', shrink = 0.05),)\n",
    "\n",
    "plt.ylim(min(pop), max(pop))\n",
    "plt.xlim(min(year), max(year))\n",
    "plt.legend(loc = 'center left')\n",
    "plt.show()"
   ]
  },
  {
   "cell_type": "markdown",
   "metadata": {},
   "source": [
    "<img src = \"Plot.svg\">"
   ]
  }
 ],
 "metadata": {
  "language_info": {
   "name": "python"
  },
  "orig_nbformat": 4
 },
 "nbformat": 4,
 "nbformat_minor": 2
}
